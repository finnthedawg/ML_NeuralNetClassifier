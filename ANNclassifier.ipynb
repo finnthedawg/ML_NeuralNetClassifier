{
 "cells": [
  {
   "cell_type": "markdown",
   "metadata": {},
   "source": [
    "## ANN classifier"
   ]
  },
  {
   "cell_type": "code",
   "execution_count": 1,
   "metadata": {},
   "outputs": [],
   "source": [
    "import torch\n",
    "import torch.nn as nn\n",
    "import torch.optim as optim #Parameter optimization functions\n",
    "import numpy as np\n",
    "import random #Random shuffling\n",
    "import matplotlib.pyplot as plt\n",
    "from numpy import ma\n",
    "from scipy.io import loadmat #Loading data\n",
    "from sklearn.model_selection import train_test_split #Train/test data split."
   ]
  },
  {
   "cell_type": "code",
   "execution_count": 2,
   "metadata": {},
   "outputs": [],
   "source": [
    "#loadData function\n",
    "def loadData(name):\n",
    "    return(loadmat(name))"
   ]
  },
  {
   "cell_type": "code",
   "execution_count": 3,
   "metadata": {},
   "outputs": [],
   "source": [
    "#Displays a image (one slice of input)\n",
    "def showImage(img):\n",
    "    img = img.reshape((20,20))\n",
    "    img = np.transpose(img) #The dataset has the values transposed somehow?\n",
    "    fig, ax = plt.subplots(figsize=(3, 3))\n",
    "    ax.imshow(img)\n",
    "    "
   ]
  },
  {
   "cell_type": "code",
   "execution_count": 4,
   "metadata": {},
   "outputs": [],
   "source": [
    "#Selects and shows a random image from X and prints it's corresponding label.\n",
    "def showRandImage(X, y):\n",
    "    index = np.random.randint(X.shape[0])\n",
    "    img = X[index, :]\n",
    "    print(\"The value is \", y[index])\n",
    "    showImage(img)"
   ]
  },
  {
   "cell_type": "code",
   "execution_count": 5,
   "metadata": {},
   "outputs": [],
   "source": [
    "#Unison shuffle. Reference from https://stackoverflow.com/questions/4601373/better-way-to-shuffle-two-numpy-arrays-in-unison\n",
    "def unison_shuffled_copies(a, b):\n",
    "    assert len(a) == len(b)\n",
    "    p = np.random.permutation(len(a))\n",
    "    return a[p], b[p]"
   ]
  },
  {
   "cell_type": "code",
   "execution_count": 6,
   "metadata": {},
   "outputs": [
    {
     "name": "stdout",
     "output_type": "stream",
     "text": [
      "Input shape:  (5000, 400)\n",
      "Output shape:  (5000, 1)\n"
     ]
    }
   ],
   "source": [
    "#Load the data. \n",
    "data = loadData(\"ex3data1.mat\")\n",
    "X = data[\"X\"]\n",
    "y = data[\"y\"][:,0]\n",
    "X, y = unison_shuffled_copies(X,y)\n",
    "y = y.reshape(y.shape[0], 1)\n",
    "print(\"Input shape: \", X.shape)\n",
    "print(\"Output shape: \", y.shape)"
   ]
  },
  {
   "cell_type": "code",
   "execution_count": null,
   "metadata": {},
   "outputs": [],
   "source": []
  },
  {
   "cell_type": "code",
   "execution_count": 7,
   "metadata": {},
   "outputs": [
    {
     "name": "stdout",
     "output_type": "stream",
     "text": [
      "The value is  [2]\n"
     ]
    },
    {
     "data": {
      "image/png": "[encoded data removed]",
      "text/plain": [
       "<Figure size 216x216 with 1 Axes>"
      ]
     },
     "metadata": {
      "needs_background": "light"
     },
     "output_type": "display_data"
    }
   ],
   "source": [
    "#Show one of our input data and label.\n",
    "showRandImage(X, y)"
   ]
  },
  {
   "cell_type": "markdown",
   "metadata": {},
   "source": [
    "As we see, the data we are given are images with the class label 1-10 corresponding to the value."
   ]
  },
  {
   "cell_type": "code",
   "execution_count": 8,
   "metadata": {},
   "outputs": [],
   "source": [
    "#Define the neural net.\n",
    "class ANN(nn.Module):\n",
    "    \n",
    "    def __init__(self):\n",
    "        #Define the network\n",
    "        super(ANN, self).__init__()\n",
    "        self.fc1 = nn.Linear(400, 25)\n",
    "        self.fc2 = nn.Linear(25,10)\n",
    "        self.Sigmoid = nn.Sigmoid()\n",
    "        self.Softmax = nn.Softmax(dim = -1)\n",
    "\n",
    "    def forward(self, x):\n",
    "        x = self.Sigmoid(self.fc1(x))\n",
    "        x = self.Softmax(self.fc2(x))\n",
    "        return(x)\n",
    "    \n",
    "    def loadWeight(self, weights):\n",
    "        fc1 = torch.from_numpy(weights[\"Theta1\"][:,:-1]).float() #Converts double to tensor floats\n",
    "        fc1Bias = torch.from_numpy(weights[\"Theta1\"][:,0]).float()\n",
    "        fc2 = torch.from_numpy(weights[\"Theta2\"][:,:-1]).float()\n",
    "        fc2Bias = torch.from_numpy(weights[\"Theta2\"][:,0]).float()\n",
    "        \n",
    "        print(fc1.shape)\n",
    "        print(fc1Bias)\n",
    "        print(fc2Bias)\n",
    "        \n",
    "        param = list(self.parameters())\n",
    "        param[0].data.sub_(fc1) #Insert the weights into our layers\n",
    "        param[1].data.sub_(fc1Bias)\n",
    "        param[2].data.sub_(fc2)\n",
    "        param[3].data.sub_(fc2Bias)\n"
   ]
  },
  {
   "cell_type": "code",
   "execution_count": 9,
   "metadata": {},
   "outputs": [],
   "source": [
    "#Function to evaluate the network\n",
    "def evaluate(model, X, y):\n",
    "    dataSize = len(X[:,1]) #Total number of samples.\n",
    "    #Test on the dataset\n",
    "    #For each of the featureset.\n",
    "    samples = list(range(dataSize))\n",
    "    random.shuffle(samples)\n",
    "    correct = 0\n",
    "\n",
    "    with torch.no_grad(): #We don't need gradients when predicting\n",
    "        for i in samples: #Predict the value of each sample.\n",
    "            features = torch.from_numpy(X[i]).float()\n",
    "            #Extract the correct value\n",
    "            target = torch.zeros((10))\n",
    "            target[y[i]-1] = 1.0\n",
    "            #Predict\n",
    "            outputs = model(features)\n",
    "            _, predicted = torch.max(outputs, 0)\n",
    "            correct += (int(predicted) == y[i]-1) #Track the correct predictions.\n",
    "\n",
    "    return(100*correct/dataSize)"
   ]
  },
  {
   "cell_type": "markdown",
   "metadata": {},
   "source": [
    "### Train the Network"
   ]
  },
  {
   "cell_type": "code",
   "execution_count": 10,
   "metadata": {},
   "outputs": [
    {
     "name": "stdout",
     "output_type": "stream",
     "text": [
      "ANN(\n",
      "  (fc1): Linear(in_features=400, out_features=25, bias=True)\n",
      "  (fc2): Linear(in_features=25, out_features=10, bias=True)\n",
      "  (Sigmoid): Sigmoid()\n",
      "  (Softmax): Softmax()\n",
      ")\n"
     ]
    }
   ],
   "source": [
    "#Initialize the neural net\n",
    "classifier = ANN()\n",
    "print(classifier)\n",
    "#Create the optim\n",
    "optimizer = optim.SGD(classifier.parameters(), lr=0.2)"
   ]
  },
  {
   "cell_type": "code",
   "execution_count": 11,
   "metadata": {},
   "outputs": [
    {
     "name": "stdout",
     "output_type": "stream",
     "text": [
      "Accuracy%:  [10.34]\n"
     ]
    }
   ],
   "source": [
    "#Before training the accuracy is 10%. \n",
    "print(\"Accuracy%: \", evaluate(classifier, X, y))"
   ]
  },
  {
   "cell_type": "code",
   "execution_count": 12,
   "metadata": {},
   "outputs": [],
   "source": [
    "def train(classifier, X,y, epochSize = 20 ):\n",
    "    #Split into test and train.\n",
    "    X_train, X_test, y_train, y_test = train_test_split(X, y, test_size=0.3, random_state=42)\n",
    "    \n",
    "    #Training.\n",
    "    dataSize = len(X_train[:,1]) #Total number of samples.\n",
    "    #Store the result here to plot graph.\n",
    "    AccuracyCount = []\n",
    "    LossCount = []\n",
    "    for epoch in range(0,20):\n",
    "        losses = []\n",
    "        accuracyCount = []\n",
    "        correctCount = 0\n",
    "        #For each of the featureset.\n",
    "        samples = list(range(dataSize))\n",
    "        random.shuffle(samples)\n",
    "        \n",
    "        for i in samples:\n",
    "            #Train with SGD for each set. |\n",
    "            optimizer.zero_grad()   # zero the gradient\n",
    "            #Extract a feature i\n",
    "            features = torch.from_numpy(X_train[i]).float()\n",
    "            #Extract the correct value\n",
    "            target = torch.zeros((10))\n",
    "            target[y_train[i]-1] = 1.0\n",
    "            #Define the MSE loss.\n",
    "            output = classifier(features)\n",
    "            loss = nn.MSELoss()(output, target)\n",
    "            #Backprop the loss to each node.\n",
    "            loss.backward()\n",
    "            #Updates our weights using optim SGD.\n",
    "            optimizer.step()\n",
    "            #Keep track of loss and accuracy.\n",
    "            losses.append(loss)\n",
    "        losses = np.array(losses, dtype=float)\n",
    "        accuracy = evaluate(classifier, X_test, y_test)\n",
    "        AccuracyCount.append(accuracy)\n",
    "        mean = np.mean(losses) #We taken the mean of the losses.\n",
    "        LossCount.append(mean)\n",
    "        #Print every 2 epochs\n",
    "        if epoch % 2 == 0:\n",
    "            print(\"Epoch:\"+ str(epoch) + \" Avg MSE Loss:\", mean, \"Ave Accuracy%: \", accuracy)\n",
    "    return(AccuracyCount, LossCount)"
   ]
  },
  {
   "cell_type": "code",
   "execution_count": 13,
   "metadata": {},
   "outputs": [
    {
     "name": "stdout",
     "output_type": "stream",
     "text": [
      "Epoch:0 Avg MSE Loss: 0.087161660777671 Ave Accuracy%:  [32.4]\n",
      "Epoch:2 Avg MSE Loss: 0.0464851536641363 Ave Accuracy%:  [82.26666667]\n",
      "Epoch:4 Avg MSE Loss: 0.021899648467473266 Ave Accuracy%:  [89.4]\n",
      "Epoch:6 Avg MSE Loss: 0.016012467282055437 Ave Accuracy%:  [90.53333333]\n",
      "Epoch:8 Avg MSE Loss: 0.013478958858491687 Ave Accuracy%:  [91.2]\n",
      "Epoch:10 Avg MSE Loss: 0.011761396003899336 Ave Accuracy%:  [91.46666667]\n",
      "Epoch:12 Avg MSE Loss: 0.010585932910831673 Ave Accuracy%:  [91.73333333]\n",
      "Epoch:14 Avg MSE Loss: 0.009682788429957538 Ave Accuracy%:  [92.2]\n",
      "Epoch:16 Avg MSE Loss: 0.008743829628123428 Ave Accuracy%:  [92.]\n",
      "Epoch:18 Avg MSE Loss: 0.00810915056192135 Ave Accuracy%:  [92.2]\n"
     ]
    }
   ],
   "source": [
    "AccuracyCount, LossCount = train(classifier, X, y)"
   ]
  },
  {
   "cell_type": "code",
   "execution_count": 14,
   "metadata": {},
   "outputs": [
    {
     "data": {
      "image/png": "[encoded data removed]",
      "text/plain": [
       "<Figure size 432x288 with 1 Axes>"
      ]
     },
     "metadata": {
      "needs_background": "light"
     },
     "output_type": "display_data"
    }
   ],
   "source": [
    "#Plot the accuracy gain\n",
    "plt.plot(AccuracyCount)\n",
    "plt.title('Accuracy of total set by epoch')\n",
    "plt.ylabel('Accuracy')\n",
    "plt.xlabel('Epoch')\n",
    "plt.show()"
   ]
  },
  {
   "cell_type": "code",
   "execution_count": 15,
   "metadata": {},
   "outputs": [
    {
     "data": {
      "image/png": "[encoded data removed]",
      "text/plain": [
       "<Figure size 432x288 with 1 Axes>"
      ]
     },
     "metadata": {
      "needs_background": "light"
     },
     "output_type": "display_data"
    }
   ],
   "source": [
    "#Plot the loss rate\n",
    "#Plot the accuracy gain\n",
    "plt.plot(LossCount)\n",
    "plt.title('Loss over full set')\n",
    "plt.ylabel('Loss')\n",
    "plt.xlabel('Epoch')\n",
    "plt.show()"
   ]
  },
  {
   "cell_type": "markdown",
   "metadata": {},
   "source": [
    "### Loading some pre-trained weights"
   ]
  },
  {
   "cell_type": "markdown",
   "metadata": {},
   "source": [
    "We load some pre-trained weights and see if it help our training process."
   ]
  },
  {
   "cell_type": "code",
   "execution_count": 16,
   "metadata": {},
   "outputs": [
    {
     "name": "stdout",
     "output_type": "stream",
     "text": [
      "torch.Size([25, 400])\n",
      "tensor([-0.0226, -0.0984,  0.1162, -0.2397, -0.7316, -0.5979,  0.1546, -0.0337,\n",
      "        -0.4107,  0.0235,  0.2477,  0.2653,  0.0943,  0.2022, -0.2030,  0.1046,\n",
      "         0.1489, -0.0379, -0.3320, -0.2977, -0.4842, -0.3898, -0.1832, -0.7021,\n",
      "        -0.3509])\n",
      "tensor([-0.7610, -0.6179, -0.6893, -0.6783, -0.5966, -0.8779, -0.5275, -0.7490,\n",
      "        -0.6665, -0.4609])\n"
     ]
    }
   ],
   "source": [
    "#Clear and load our weights\n",
    "weights = loadData(\"ex3weights.mat\")\n",
    "classifier.loadWeight(weights)"
   ]
  },
  {
   "cell_type": "code",
   "execution_count": 17,
   "metadata": {},
   "outputs": [
    {
     "name": "stdout",
     "output_type": "stream",
     "text": [
      "Accuracy%:  [34.46]\n"
     ]
    }
   ],
   "source": [
    "print(\"Accuracy%: \", evaluate(classifier, X, y))"
   ]
  },
  {
   "cell_type": "markdown",
   "metadata": {},
   "source": [
    "We can see immideatly the accuracy is at >10% of the whole dataset. There are features in the weights which helps our training as well. Nevertheless, are difference between the strategy of the loaded weights and my network's weights. (Perhaps the inputs to the loaded data are normalized). "
   ]
  },
  {
   "cell_type": "code",
   "execution_count": 18,
   "metadata": {},
   "outputs": [
    {
     "name": "stdout",
     "output_type": "stream",
     "text": [
      "Epoch:0 Avg MSE Loss: 0.03819998284627881 Ave Accuracy%:  [83.46666667]\n",
      "Epoch:2 Avg MSE Loss: 0.014519638660560934 Ave Accuracy%:  [88.26666667]\n",
      "Epoch:4 Avg MSE Loss: 0.011132463536220813 Ave Accuracy%:  [89.86666667]\n",
      "Epoch:6 Avg MSE Loss: 0.00937419218315365 Ave Accuracy%:  [90.]\n",
      "Epoch:8 Avg MSE Loss: 0.00817501277655315 Ave Accuracy%:  [90.66666667]\n",
      "Epoch:10 Avg MSE Loss: 0.007426878985411459 Ave Accuracy%:  [91.46666667]\n",
      "Epoch:12 Avg MSE Loss: 0.006832535231509549 Ave Accuracy%:  [91.4]\n",
      "Epoch:14 Avg MSE Loss: 0.006411444209646313 Ave Accuracy%:  [91.46666667]\n",
      "Epoch:16 Avg MSE Loss: 0.0059838754197244284 Ave Accuracy%:  [91.4]\n",
      "Epoch:18 Avg MSE Loss: 0.005668249953225749 Ave Accuracy%:  [91.6]\n"
     ]
    }
   ],
   "source": [
    "AccuracyCount, LossCount = train(classifier, X, y)"
   ]
  },
  {
   "cell_type": "markdown",
   "metadata": {},
   "source": []
  },
  {
   "cell_type": "code",
   "execution_count": 19,
   "metadata": {},
   "outputs": [
    {
     "data": {
      "image/png": "[encoded data removed]",
      "text/plain": [
       "<Figure size 432x288 with 1 Axes>"
      ]
     },
     "metadata": {
      "needs_background": "light"
     },
     "output_type": "display_data"
    }
   ],
   "source": [
    "#Plot the accuracy gain\n",
    "plt.plot(AccuracyCount)\n",
    "plt.title('Accuracy of total set by epoch')\n",
    "plt.ylabel('Accuracy')\n",
    "plt.xlabel('Epoch')\n",
    "plt.show()"
   ]
  },
  {
   "cell_type": "code",
   "execution_count": 20,
   "metadata": {},
   "outputs": [
    {
     "data": {
      "image/png": "[encoded data removed]",
      "text/plain": [
       "<Figure size 432x288 with 1 Axes>"
      ]
     },
     "metadata": {
      "needs_background": "light"
     },
     "output_type": "display_data"
    }
   ],
   "source": [
    "#Plot the loss rate\n",
    "#Plot the accuracy gain\n",
    "plt.plot(LossCount)\n",
    "plt.title('Loss over full set')\n",
    "plt.ylabel('Loss')\n",
    "plt.xlabel('Epoch')\n",
    "plt.show()"
   ]
  },
  {
   "cell_type": "markdown",
   "metadata": {},
   "source": [
    "It appears that using the pretrained feature weights helped our model to train faster especially initially"
   ]
  },
  {
   "cell_type": "markdown",
   "metadata": {},
   "source": [
    "### Predicting with regularized logistic regression strategy (One vs Many)"
   ]
  },
  {
   "cell_type": "markdown",
   "metadata": {},
   "source": [
    "■ Compare the performance of the Neural Network and a Regularized\n",
    "Logistic regression module (One-vs-all strategy) for multi-class"
   ]
  },
  {
   "cell_type": "markdown",
   "metadata": {},
   "source": [
    "### Implementation of L2 regularized logistic regression, utilzing OvM strategy."
   ]
  },
  {
   "cell_type": "code",
   "execution_count": 21,
   "metadata": {},
   "outputs": [],
   "source": [
    "from sklearn.preprocessing import scale #To normalize our inputs\n",
    "import math #np.log and other functions"
   ]
  },
  {
   "cell_type": "code",
   "execution_count": 22,
   "metadata": {},
   "outputs": [],
   "source": [
    "#Normalize data\n",
    "X_scaled = scale(X, axis=1) #We normalize our inputs using the difference to mean / std dev\n",
    "#Test train split\n",
    "X_train, X_test, y_train, y_test = train_test_split(X_scaled, y, test_size=0.3, random_state=42)"
   ]
  },
  {
   "cell_type": "code",
   "execution_count": 23,
   "metadata": {},
   "outputs": [],
   "source": [
    "#Define helper functions\n",
    "def sigmoid(x):\n",
    "    #if X is <0 then we do subtraction form because python cant handle large positive exponents\n",
    "    if x < 0:\n",
    "        return 1 - 1/(1 + math.exp(x))\n",
    "    else:\n",
    "        return(1/(1+ math.exp(-x)))\n",
    "\n",
    "vsigmoid = np.vectorize(sigmoid) #Use np.vectorise so we can apply function to our vectorized parameters\n",
    "\n",
    "def logistic_cost(X_b, theta, y):\n",
    "    #We define our cost function. Add some dust to prevent log from -inf when 0.\n",
    "    ycost = (-y*ma.log(vsigmoid(X_b.dot(theta))).filled(0) - (1-y)*ma.log(1-vsigmoid(X_b.dot(theta))).filled(0))\n",
    "    cost = ycost.mean() #We take the mean of the cost so we can record the value.\n",
    "    return(cost)\n",
    "\n",
    "def threshold(p): #The threshold of our probability converted to prediction.\n",
    "    if(p>0.5):\n",
    "        return(1)\n",
    "    elif(p<0.5):\n",
    "        return(0)\n",
    "vthreshold = np.vectorize(threshold)"
   ]
  },
  {
   "cell_type": "code",
   "execution_count": 24,
   "metadata": {},
   "outputs": [],
   "source": [
    "#Train our OVM model.\n",
    "thetas = [] #Stores our model params for each class.\n",
    "costs = [] #Stores the cost function for each class for debugging\n",
    "for i in range(10): #We have 10 classes.\n",
    "\n",
    "    y_train_ovm = np.zeros(y_train.shape)\n",
    "    for index in range(len(y_train)):\n",
    "        if y_train[index] == i: #Sets Y to 1 only if matches class i.\n",
    "            y_train_ovm[index] = 1\n",
    "        else:\n",
    "            y_train_ovm[index] = 0\n",
    "\n",
    "    #Logistic regression with regularization\n",
    "    iterations = 2000\n",
    "    learn_rate = 0.5\n",
    "    reg_lambda = 0.5\n",
    "    #Initialize theta to some values\n",
    "    X_b = np.c_[np.ones((X_train.shape[0],1)), X_train]\n",
    "    theta = np.zeros((X_b.shape[1],1))\n",
    "\n",
    "    cost = []\n",
    "    for iteration in range(iterations):\n",
    "        delta = 1/X_train.shape[0] * X_b.T.dot(vsigmoid(X_b.dot(theta)) -y_train_ovm ) # Calculate delta \n",
    "        theta = theta - learn_rate*(delta + (reg_lambda/X_train.shape[0]) * theta) #We apply L2 regularization here. \n",
    "        cost.append(logistic_cost(X_b,theta,y_train_ovm))\n",
    "    \n",
    "    thetas.append(theta)\n",
    "    costs.append(costs)"
   ]
  },
  {
   "cell_type": "code",
   "execution_count": 25,
   "metadata": {},
   "outputs": [],
   "source": [
    "X_test = np.c_[np.ones(X_test.shape[0]),X_test] #Add the bias term to X_test"
   ]
  },
  {
   "cell_type": "code",
   "execution_count": 26,
   "metadata": {},
   "outputs": [],
   "source": [
    "#Now we can predict for each instance using the highest class probability.\n",
    "yHats = []\n",
    "for i in range(10):\n",
    "    yHat = vsigmoid(X_test.dot(thetas[i]))\n",
    "    yHats.append(yHat)"
   ]
  },
  {
   "cell_type": "code",
   "execution_count": 27,
   "metadata": {},
   "outputs": [],
   "source": [
    "#Predict for each instance using the highest class probability.\n",
    "yFinal = []\n",
    "for i in range(len(yHat)):\n",
    "    highest = 0 #The highest index.\n",
    "    probability = 0 #The highest probability.\n",
    "    for j in range(10): #We have 10 classes.\n",
    "        if yHats[j][i] > probability:\n",
    "            probability = yHats[j][i]\n",
    "            highest = j\n",
    "    yFinal.append(highest)"
   ]
  },
  {
   "cell_type": "code",
   "execution_count": 28,
   "metadata": {},
   "outputs": [],
   "source": [
    "correct = 0\n",
    "for i in range(len(yFinal)):\n",
    "    if yFinal[i] == y_test[i]:\n",
    "        correct += 1"
   ]
  },
  {
   "cell_type": "code",
   "execution_count": 29,
   "metadata": {},
   "outputs": [
    {
     "name": "stdout",
     "output_type": "stream",
     "text": [
      "Our accuracy: % 80.06666666666666\n"
     ]
    }
   ],
   "source": [
    "print(\"Our accuracy: %\", 100*correct/len(yFinal))"
   ]
  },
  {
   "cell_type": "code",
   "execution_count": null,
   "metadata": {},
   "outputs": [],
   "source": []
  },
  {
   "cell_type": "code",
   "execution_count": null,
   "metadata": {},
   "outputs": [],
   "source": []
  },
  {
   "cell_type": "code",
   "execution_count": null,
   "metadata": {},
   "outputs": [],
   "source": []
  },
  {
   "cell_type": "code",
   "execution_count": null,
   "metadata": {},
   "outputs": [],
   "source": []
  }
 ],
 "metadata": {
  "kernelspec": {
   "display_name": "Python 3",
   "language": "python",
   "name": "python3"
  },
  "language_info": {
   "codemirror_mode": {
    "name": "ipython",
    "version": 3
   },
   "file_extension": ".py",
   "mimetype": "text/x-python",
   "name": "python",
   "nbconvert_exporter": "python",
   "pygments_lexer": "ipython3",
   "version": "3.6.8"
  }
 },
 "nbformat": 4,
 "nbformat_minor": 2
}
