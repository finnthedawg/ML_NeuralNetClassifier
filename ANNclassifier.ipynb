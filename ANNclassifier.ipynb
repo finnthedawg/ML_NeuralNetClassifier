{
 "cells": [
  {
   "cell_type": "markdown",
   "metadata": {},
   "source": [
    "## Neural Network"
   ]
  },
  {
   "cell_type": "code",
   "execution_count": 1,
   "metadata": {},
   "outputs": [],
   "source": [
    "import torch\n",
    "import torch.nn as nn #neural net\n",
    "import torch.nn.functional as F #Functions such as relu\n",
    "import torch.optim as optim #Parameter optimization functions\n",
    "import numpy as np\n",
    "import random #Random shuffling\n",
    "import matplotlib.pyplot as plt\n",
    "from scipy.io import loadmat #Loading data"
   ]
  },
  {
   "cell_type": "markdown",
   "metadata": {},
   "source": [
    "Define the network"
   ]
  },
  {
   "cell_type": "code",
   "execution_count": 2,
   "metadata": {},
   "outputs": [],
   "source": [
    "class ANN(nn.Module):\n",
    "    \n",
    "    def __init__(self):\n",
    "        #Define the network\n",
    "        super(ANN, self).__init__()\n",
    "        self.fc1 = nn.Linear(400, 25)\n",
    "        self.fc2 = nn.Linear(25,10)\n",
    "        self.Sigmoid = nn.Sigmoid()\n",
    "        self.Softmax = nn.Softmax(dim = -1)\n",
    "\n",
    "    def forward(self, x):\n",
    "        x = self.Sigmoid(self.fc1(x))\n",
    "        x = self.Softmax(self.fc2(x))\n",
    "        return(x)\n",
    "    \n",
    "    def loadWeight(self, weights):\n",
    "        \n",
    "        fc1 = torch.from_numpy(weights[\"Theta1\"][:,:-1]).float()\n",
    "        fc1Bias = torch.from_numpy(weights[\"Theta1\"][:,0]).float()\n",
    "        fc2 = torch.from_numpy(weights[\"Theta2\"][:,:-1]).float()\n",
    "        fc2Bias = torch.from_numpy(weights[\"Theta2\"][:,0]).float()\n",
    "        \n",
    "        print(fc1.shape)\n",
    "        print(fc1Bias)\n",
    "        print(fc2Bias)\n",
    "        \n",
    "        param = list(self.parameters())\n",
    "        param[0].data.sub_(fc1)\n",
    "        param[1].data.sub_(fc1Bias)\n",
    "        param[2].data.sub_(fc2)\n",
    "        param[3].data.sub_(fc2Bias)"
   ]
  },
  {
   "cell_type": "code",
   "execution_count": 3,
   "metadata": {},
   "outputs": [],
   "source": [
    "def loadData(name):\n",
    "    return(loadmat(name))"
   ]
  },
  {
   "cell_type": "code",
   "execution_count": 4,
   "metadata": {},
   "outputs": [
    {
     "name": "stdout",
     "output_type": "stream",
     "text": [
      "Input shape:  (5000, 400)\n",
      "Output shape:  (5000, 1)\n"
     ]
    }
   ],
   "source": [
    "data = loadData(\"ex3data1.mat\")\n",
    "print(\"Input shape: \", data[\"X\"].shape)\n",
    "print(\"Output shape: \", data[\"y\"].shape)"
   ]
  },
  {
   "cell_type": "code",
   "execution_count": 5,
   "metadata": {},
   "outputs": [],
   "source": [
    "#Evaluate the network\n",
    "def evaluate(model, data):\n",
    "    dataSize = len(data[\"X\"][:,1]) #Total number of samples.\n",
    "    #Test on the dataset\n",
    "    #For each of the featureset.\n",
    "    samples = list(range(dataSize))\n",
    "    random.shuffle(samples)\n",
    "    correct = 0\n",
    "\n",
    "    with torch.no_grad():\n",
    "        for i in samples:\n",
    "            features = torch.from_numpy(data[\"X\"][i]).float()\n",
    "            #Extract the correct value\n",
    "            target = torch.zeros((10))\n",
    "            target[data[\"y\"][i]-1] = 1.0\n",
    "            #Predict\n",
    "            outputs = model(features)\n",
    "            _, predicted = torch.max(outputs, 0)\n",
    "            correct += (int(predicted) == data[\"y\"][i]-1)\n",
    "    return(100*correct/dataSize)"
   ]
  },
  {
   "cell_type": "markdown",
   "metadata": {},
   "source": [
    "### Train the Network"
   ]
  },
  {
   "cell_type": "code",
   "execution_count": 6,
   "metadata": {},
   "outputs": [
    {
     "name": "stdout",
     "output_type": "stream",
     "text": [
      "ANN(\n",
      "  (fc1): Linear(in_features=400, out_features=25, bias=True)\n",
      "  (fc2): Linear(in_features=25, out_features=10, bias=True)\n",
      "  (Sigmoid): Sigmoid()\n",
      "  (Softmax): Softmax()\n",
      ")\n"
     ]
    }
   ],
   "source": [
    "#Initialize the neural net\n",
    "classifier = ANN()\n",
    "print(classifier)\n",
    "#Create the optim\n",
    "optimizer = optim.SGD(classifier.parameters(), lr=0.1)"
   ]
  },
  {
   "cell_type": "code",
   "execution_count": 7,
   "metadata": {},
   "outputs": [
    {
     "name": "stdout",
     "output_type": "stream",
     "text": [
      "Accuracy%:  [11.]\n"
     ]
    }
   ],
   "source": [
    "print(\"Accuracy%: \", evaluate(classifier, data))"
   ]
  },
  {
   "cell_type": "code",
   "execution_count": 16,
   "metadata": {},
   "outputs": [
    {
     "name": "stdout",
     "output_type": "stream",
     "text": [
      "Epoch:0 Avg MSE Loss: 0.11255924971409677 Ave Accuracy%:  48.18\n",
      "Epoch:1 Avg MSE Loss: 0.07341927221493283 Ave Accuracy%:  61.38\n",
      "Epoch:2 Avg MSE Loss: 0.06000376167335389 Ave Accuracy%:  66.42\n",
      "Epoch:3 Avg MSE Loss: 0.05403576210459432 Ave Accuracy%:  68.18\n",
      "Epoch:4 Avg MSE Loss: 0.05077627822000627 Ave Accuracy%:  69.96\n",
      "Epoch:5 Avg MSE Loss: 0.04824920907039166 Ave Accuracy%:  71.12\n",
      "Epoch:6 Avg MSE Loss: 0.04657180275314267 Ave Accuracy%:  72.14\n",
      "Epoch:7 Avg MSE Loss: 0.045124332951115766 Ave Accuracy%:  72.76\n",
      "Epoch:8 Avg MSE Loss: 0.043726235463572405 Ave Accuracy%:  73.02\n",
      "Epoch:9 Avg MSE Loss: 0.04269137636277529 Ave Accuracy%:  73.5\n",
      "Epoch:10 Avg MSE Loss: 0.04149123352678786 Ave Accuracy%:  73.46\n",
      "Epoch:11 Avg MSE Loss: 0.04055166848943817 Ave Accuracy%:  74.14\n",
      "Epoch:12 Avg MSE Loss: 0.03972930197447681 Ave Accuracy%:  74.62\n",
      "Epoch:13 Avg MSE Loss: 0.03897684900804071 Ave Accuracy%:  75.0\n",
      "Epoch:14 Avg MSE Loss: 0.03837090043183655 Ave Accuracy%:  75.04\n",
      "Epoch:15 Avg MSE Loss: 0.037907775800439046 Ave Accuracy%:  75.42\n",
      "Epoch:16 Avg MSE Loss: 0.03744295550964409 Ave Accuracy%:  75.46\n",
      "Epoch:17 Avg MSE Loss: 0.03707158339728563 Ave Accuracy%:  75.42\n",
      "Epoch:18 Avg MSE Loss: 0.036749358763850756 Ave Accuracy%:  75.72\n",
      "Epoch:19 Avg MSE Loss: 0.036455233912328196 Ave Accuracy%:  75.78\n",
      "Epoch:20 Avg MSE Loss: 0.03617113116396722 Ave Accuracy%:  75.88\n",
      "Epoch:21 Avg MSE Loss: 0.035858335979280946 Ave Accuracy%:  75.9\n",
      "Epoch:22 Avg MSE Loss: 0.03559148965505234 Ave Accuracy%:  76.02\n",
      "Epoch:23 Avg MSE Loss: 0.035391391407035136 Ave Accuracy%:  76.22\n",
      "Epoch:24 Avg MSE Loss: 0.03510125343520812 Ave Accuracy%:  76.34\n",
      "Epoch:25 Avg MSE Loss: 0.03483384435541388 Ave Accuracy%:  76.36\n",
      "Epoch:26 Avg MSE Loss: 0.03462331273823002 Ave Accuracy%:  76.48\n",
      "Epoch:27 Avg MSE Loss: 0.03443889205126854 Ave Accuracy%:  76.46\n",
      "Epoch:28 Avg MSE Loss: 0.034209909698725775 Ave Accuracy%:  76.6\n",
      "Epoch:29 Avg MSE Loss: 0.03403971650451656 Ave Accuracy%:  76.58\n"
     ]
    }
   ],
   "source": [
    "#Training.\n",
    "dataSize = len(data[\"X\"][:,1]) #Total number of samples.\n",
    "#Store the result here to plot graph.\n",
    "AccuracyCount = []\n",
    "LossCount = []\n",
    "for epoch in range(30):\n",
    "    \n",
    "    losses = []\n",
    "    accuracyCount = []\n",
    "    correctCount = 0\n",
    "    #For each of the featureset.\n",
    "    samples = list(range(dataSize))\n",
    "    random.shuffle(samples)\n",
    "    for i in samples:\n",
    "        #Train with SGD for each set. |\n",
    "        optimizer.zero_grad()   # zero the gradient\n",
    "        #Extract a feature i\n",
    "        features = torch.from_numpy(data[\"X\"][i]).float()\n",
    "        #Extract the correct value\n",
    "        target = torch.zeros((10))\n",
    "        target[data[\"y\"][i]-1] = 1.0\n",
    "        #Define the MSE loss.\n",
    "        output = classifier(features)\n",
    "        loss = nn.MSELoss()(output, target)\n",
    "        #Backprop the loss to each node.\n",
    "        loss.backward()\n",
    "        #Updates our weights using optim SGD.\n",
    "        optimizer.step()\n",
    "        #Keep track of loss and accuracy.\n",
    "        losses.append(loss)\n",
    "    losses = np.array(losses, dtype=float)\n",
    "    accuracy = evaluate(classifier, data)[0]\n",
    "    AccuracyCount.append(accuracy)\n",
    "    mean = np.mean(losses)\n",
    "    LossCount.append(mean)\n",
    "    print(\"Epoch:\"+ str(epoch) + \" Avg MSE Loss:\", mean, \"Ave Accuracy%: \", accuracy)\n"
   ]
  },
  {
   "cell_type": "code",
   "execution_count": 17,
   "metadata": {},
   "outputs": [
    {
     "data": {
      "image/png": "[encoded data removed]",
      "text/plain": [
       "<Figure size 432x288 with 1 Axes>"
      ]
     },
     "metadata": {
      "needs_background": "light"
     },
     "output_type": "display_data"
    }
   ],
   "source": [
    "#Plot the accuracy gain\n",
    "plt.plot(AccuracyCount)\n",
    "plt.title('Accuracy of total set by epoch')\n",
    "plt.ylabel('Accuracy')\n",
    "plt.xlabel('Epoch')\n",
    "plt.show()"
   ]
  },
  {
   "cell_type": "code",
   "execution_count": 18,
   "metadata": {},
   "outputs": [
    {
     "data": {
      "image/png": "[encoded data removed]",
      "text/plain": [
       "<Figure size 432x288 with 1 Axes>"
      ]
     },
     "metadata": {
      "needs_background": "light"
     },
     "output_type": "display_data"
    }
   ],
   "source": [
    "#Plot the loss rate\n",
    "#Plot the accuracy gain\n",
    "plt.plot(LossCount)\n",
    "plt.title('Loss over full set')\n",
    "plt.ylabel('Loss')\n",
    "plt.xlabel('Epoch')\n",
    "plt.show()"
   ]
  },
  {
   "cell_type": "code",
   "execution_count": null,
   "metadata": {},
   "outputs": [],
   "source": []
  },
  {
   "cell_type": "code",
   "execution_count": 11,
   "metadata": {},
   "outputs": [],
   "source": [
    "#Update the weights."
   ]
  },
  {
   "cell_type": "markdown",
   "metadata": {},
   "source": [
    "### Accuracy of loaded weights"
   ]
  },
  {
   "cell_type": "code",
   "execution_count": 15,
   "metadata": {},
   "outputs": [
    {
     "name": "stdout",
     "output_type": "stream",
     "text": [
      "torch.Size([25, 400])\n",
      "tensor([-0.0226, -0.0984,  0.1162, -0.2397, -0.7316, -0.5979,  0.1546, -0.0337,\n",
      "        -0.4107,  0.0235,  0.2477,  0.2653,  0.0943,  0.2022, -0.2030,  0.1046,\n",
      "         0.1489, -0.0379, -0.3320, -0.2977, -0.4842, -0.3898, -0.1832, -0.7021,\n",
      "        -0.3509])\n",
      "tensor([-0.7610, -0.6179, -0.6893, -0.6783, -0.5966, -0.8779, -0.5275, -0.7490,\n",
      "        -0.6665, -0.4609])\n"
     ]
    }
   ],
   "source": [
    "#Load some weights\n",
    "weights = loadData(\"ex3weights.mat\")\n",
    "classifier.loadWeight(weights)"
   ]
  },
  {
   "cell_type": "code",
   "execution_count": null,
   "metadata": {},
   "outputs": [],
   "source": []
  },
  {
   "cell_type": "code",
   "execution_count": null,
   "metadata": {},
   "outputs": [],
   "source": []
  },
  {
   "cell_type": "code",
   "execution_count": null,
   "metadata": {},
   "outputs": [],
   "source": []
  },
  {
   "cell_type": "code",
   "execution_count": null,
   "metadata": {},
   "outputs": [],
   "source": []
  },
  {
   "cell_type": "code",
   "execution_count": null,
   "metadata": {},
   "outputs": [],
   "source": []
  },
  {
   "cell_type": "code",
   "execution_count": null,
   "metadata": {},
   "outputs": [],
   "source": []
  }
 ],
 "metadata": {
  "kernelspec": {
   "display_name": "Python 3",
   "language": "python",
   "name": "python3"
  },
  "language_info": {
   "codemirror_mode": {
    "name": "ipython",
    "version": 3
   },
   "file_extension": ".py",
   "mimetype": "text/x-python",
   "name": "python",
   "nbconvert_exporter": "python",
   "pygments_lexer": "ipython3",
   "version": "3.6.8"
  }
 },
 "nbformat": 4,
 "nbformat_minor": 2
}
