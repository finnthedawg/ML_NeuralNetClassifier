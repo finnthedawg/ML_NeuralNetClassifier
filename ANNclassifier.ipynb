{
 "cells": [
  {
   "cell_type": "markdown",
   "metadata": {},
   "source": [
    "## Neural Network"
   ]
  },
  {
   "cell_type": "code",
   "execution_count": 1,
   "metadata": {},
   "outputs": [],
   "source": [
    "import torch\n",
    "import torch.nn as nn #neural net\n",
    "import torch.nn.functional as F #Functions such as relu\n",
    "import torch.optim as optim #Parameter optimization functions\n",
    "import numpy as np\n",
    "import random #Random shuffling\n",
    "import matplotlib.pyplot as plt\n",
    "from scipy.io import loadmat #Loading data"
   ]
  },
  {
   "cell_type": "markdown",
   "metadata": {},
   "source": [
    "Define the network"
   ]
  },
  {
   "cell_type": "code",
   "execution_count": 2,
   "metadata": {},
   "outputs": [],
   "source": [
    "class ANN(nn.Module):\n",
    "    \n",
    "    def __init__(self):\n",
    "        #Define the network\n",
    "        super(ANN, self).__init__()\n",
    "        self.fc1 = nn.Linear(400, 25)\n",
    "        self.fc2 = nn.Linear(25,10)\n",
    "        self.Sigmoid = nn.Sigmoid()\n",
    "        self.Softmax = nn.Softmax(dim = -1)\n",
    "\n",
    "    def forward(self, x):\n",
    "        x = self.Sigmoid(self.fc1(x))\n",
    "        x = self.Softmax(self.fc2(x))\n",
    "        return(x)\n",
    "    \n",
    "    def loadWeight(self, weights):\n",
    "        \n",
    "        fc1 = torch.from_numpy(weights[\"Theta1\"][:,:-1]).float()\n",
    "        fc1Bias = torch.from_numpy(weights[\"Theta1\"][:,0]).float()\n",
    "        fc2 = torch.from_numpy(weights[\"Theta2\"][:,:-1]).float()\n",
    "        fc2Bias = torch.from_numpy(weights[\"Theta2\"][:,0]).float()\n",
    "        \n",
    "        print(fc1.shape)\n",
    "        print(fc1Bias)\n",
    "        print(fc2Bias)\n",
    "        \n",
    "        param = list(self.parameters())\n",
    "        param[0].data.sub_(fc1)\n",
    "        param[1].data.sub_(fc1Bias)\n",
    "        param[2].data.sub_(fc2)\n",
    "        param[3].data.sub_(fc2Bias)"
   ]
  },
  {
   "cell_type": "code",
   "execution_count": 3,
   "metadata": {},
   "outputs": [],
   "source": [
    "def loadData(name):\n",
    "    return(loadmat(name))"
   ]
  },
  {
   "cell_type": "code",
   "execution_count": 4,
   "metadata": {},
   "outputs": [],
   "source": [
    "#Evaluate the network\n",
    "def evaluate(model, data):\n",
    "    dataSize = len(data[\"X\"][:,1]) #Total number of samples.\n",
    "    #Test on the dataset\n",
    "    #For each of the featureset.\n",
    "    samples = list(range(dataSize))\n",
    "    random.shuffle(samples)\n",
    "    correct = 0\n",
    "\n",
    "    with torch.no_grad():\n",
    "        for i in samples:\n",
    "            features = torch.from_numpy(data[\"X\"][i]).float()\n",
    "            #Extract the correct value\n",
    "            target = torch.zeros((10))\n",
    "            target[data[\"y\"][i]-1] = 1.0\n",
    "            #Predict\n",
    "            outputs = model(features)\n",
    "            _, predicted = torch.max(outputs, 0)\n",
    "            correct += (int(predicted) == data[\"y\"][i]-1)\n",
    "    return(100*correct/dataSize)"
   ]
  },
  {
   "cell_type": "code",
   "execution_count": 5,
   "metadata": {},
   "outputs": [
    {
     "name": "stdout",
     "output_type": "stream",
     "text": [
      "Input shape:  (5000, 400)\n",
      "Output shape:  (5000, 1)\n"
     ]
    }
   ],
   "source": [
    "#Load the data. \n",
    "data = loadData(\"ex3data1.mat\")\n",
    "print(\"Input shape: \", data[\"X\"].shape)\n",
    "print(\"Output shape: \", data[\"y\"].shape)"
   ]
  },
  {
   "cell_type": "markdown",
   "metadata": {},
   "source": [
    "### Train the Network"
   ]
  },
  {
   "cell_type": "code",
   "execution_count": 12,
   "metadata": {},
   "outputs": [
    {
     "name": "stdout",
     "output_type": "stream",
     "text": [
      "ANN(\n",
      "  (fc1): Linear(in_features=400, out_features=25, bias=True)\n",
      "  (fc2): Linear(in_features=25, out_features=10, bias=True)\n",
      "  (Sigmoid): Sigmoid()\n",
      "  (Softmax): Softmax()\n",
      ")\n"
     ]
    }
   ],
   "source": [
    "#Initialize the neural net\n",
    "classifier = ANN()\n",
    "print(classifier)\n",
    "#Create the optim\n",
    "optimizer = optim.SGD(classifier.parameters(), lr=0.2)"
   ]
  },
  {
   "cell_type": "code",
   "execution_count": 13,
   "metadata": {},
   "outputs": [
    {
     "name": "stdout",
     "output_type": "stream",
     "text": [
      "Accuracy%:  [7.76]\n"
     ]
    }
   ],
   "source": [
    "print(\"Accuracy%: \", evaluate(classifier, data))"
   ]
  },
  {
   "cell_type": "code",
   "execution_count": 14,
   "metadata": {},
   "outputs": [
    {
     "name": "stdout",
     "output_type": "stream",
     "text": [
      "Epoch:0 Avg MSE Loss: 0.08385751541191712 Ave Accuracy%:  47.9\n",
      "Epoch:1 Avg MSE Loss: 0.05130366503710975 Ave Accuracy%:  79.8\n",
      "Epoch:2 Avg MSE Loss: 0.028834163938362325 Ave Accuracy%:  88.4\n",
      "Epoch:3 Avg MSE Loss: 0.020284129008754644 Ave Accuracy%:  90.32\n",
      "Epoch:4 Avg MSE Loss: 0.01676851083908896 Ave Accuracy%:  91.76\n",
      "Epoch:5 Avg MSE Loss: 0.01474527826936337 Ave Accuracy%:  92.32\n",
      "Epoch:6 Avg MSE Loss: 0.013458292766061437 Ave Accuracy%:  92.44\n",
      "Epoch:7 Avg MSE Loss: 0.012575043936965858 Ave Accuracy%:  93.4\n",
      "Epoch:8 Avg MSE Loss: 0.01169310092183988 Ave Accuracy%:  93.4\n",
      "Epoch:9 Avg MSE Loss: 0.011016431857423117 Ave Accuracy%:  94.04\n",
      "Epoch:10 Avg MSE Loss: 0.01050728493655987 Ave Accuracy%:  94.46\n",
      "Epoch:11 Avg MSE Loss: 0.009947866601639288 Ave Accuracy%:  94.56\n",
      "Epoch:12 Avg MSE Loss: 0.009485902575908525 Ave Accuracy%:  95.04\n",
      "Epoch:13 Avg MSE Loss: 0.009038461577512383 Ave Accuracy%:  95.22\n",
      "Epoch:14 Avg MSE Loss: 0.008603023004042948 Ave Accuracy%:  95.34\n",
      "Epoch:15 Avg MSE Loss: 0.008211782043271165 Ave Accuracy%:  95.68\n",
      "Epoch:16 Avg MSE Loss: 0.00798011436791727 Ave Accuracy%:  95.92\n",
      "Epoch:17 Avg MSE Loss: 0.007584542330037478 Ave Accuracy%:  96.04\n",
      "Epoch:18 Avg MSE Loss: 0.007343557506861293 Ave Accuracy%:  96.38\n",
      "Epoch:19 Avg MSE Loss: 0.007020206593491429 Ave Accuracy%:  96.28\n"
     ]
    }
   ],
   "source": [
    "#Training.\n",
    "dataSize = len(data[\"X\"][:,1]) #Total number of samples.\n",
    "#Store the result here to plot graph.\n",
    "AccuracyCount = []\n",
    "LossCount = []\n",
    "for epoch in range(20):\n",
    "    \n",
    "    losses = []\n",
    "    accuracyCount = []\n",
    "    correctCount = 0\n",
    "    #For each of the featureset.\n",
    "    samples = list(range(dataSize))\n",
    "    random.shuffle(samples)\n",
    "    for i in samples:\n",
    "        #Train with SGD for each set. |\n",
    "        optimizer.zero_grad()   # zero the gradient\n",
    "        #Extract a feature i\n",
    "        features = torch.from_numpy(data[\"X\"][i]).float()\n",
    "        #Extract the correct value\n",
    "        target = torch.zeros((10))\n",
    "        target[data[\"y\"][i]-1] = 1.0\n",
    "        #Define the MSE loss.\n",
    "        output = classifier(features)\n",
    "        loss = nn.MSELoss()(output, target)\n",
    "        #Backprop the loss to each node.\n",
    "        loss.backward()\n",
    "        #Updates our weights using optim SGD.\n",
    "        optimizer.step()\n",
    "        #Keep track of loss and accuracy.\n",
    "        losses.append(loss)\n",
    "    losses = np.array(losses, dtype=float)\n",
    "    accuracy = evaluate(classifier, data)[0]\n",
    "    AccuracyCount.append(accuracy)\n",
    "    mean = np.mean(losses)\n",
    "    LossCount.append(mean)\n",
    "    print(\"Epoch:\"+ str(epoch) + \" Avg MSE Loss:\", mean, \"Ave Accuracy%: \", accuracy)\n"
   ]
  },
  {
   "cell_type": "code",
   "execution_count": 15,
   "metadata": {},
   "outputs": [
    {
     "data": {
      "image/png": "[encoded data removed]",
      "text/plain": [
       "<Figure size 432x288 with 1 Axes>"
      ]
     },
     "metadata": {
      "needs_background": "light"
     },
     "output_type": "display_data"
    }
   ],
   "source": [
    "#Plot the accuracy gain\n",
    "plt.plot(AccuracyCount)\n",
    "plt.title('Accuracy of total set by epoch')\n",
    "plt.ylabel('Accuracy')\n",
    "plt.xlabel('Epoch')\n",
    "plt.show()"
   ]
  },
  {
   "cell_type": "code",
   "execution_count": 16,
   "metadata": {},
   "outputs": [
    {
     "data": {
      "image/png": "[encoded data removed]",
      "text/plain": [
       "<Figure size 432x288 with 1 Axes>"
      ]
     },
     "metadata": {
      "needs_background": "light"
     },
     "output_type": "display_data"
    }
   ],
   "source": [
    "#Plot the loss rate\n",
    "#Plot the accuracy gain\n",
    "plt.plot(LossCount)\n",
    "plt.title('Loss over full set')\n",
    "plt.ylabel('Loss')\n",
    "plt.xlabel('Epoch')\n",
    "plt.show()"
   ]
  },
  {
   "cell_type": "markdown",
   "metadata": {},
   "source": [
    "### Comparison with Logistic linear regression strategy (One vs Many)"
   ]
  },
  {
   "cell_type": "code",
   "execution_count": 17,
   "metadata": {},
   "outputs": [
    {
     "ename": "ModuleNotFoundError",
     "evalue": "No module named 'sklearn'",
     "output_type": "error",
     "traceback": [
      "\u001b[0;31m---------------------------------------------------------------------------\u001b[0m",
      "\u001b[0;31mModuleNotFoundError\u001b[0m                       Traceback (most recent call last)",
      "\u001b[0;32m<ipython-input-17-673121d15ed7>\u001b[0m in \u001b[0;36m<module>\u001b[0;34m\u001b[0m\n\u001b[0;32m----> 1\u001b[0;31m \u001b[0;32mfrom\u001b[0m \u001b[0msklearn\u001b[0m\u001b[0;34m.\u001b[0m\u001b[0mpreprocessing\u001b[0m \u001b[0;32mimport\u001b[0m \u001b[0mscale\u001b[0m\u001b[0;34m\u001b[0m\u001b[0;34m\u001b[0m\u001b[0m\n\u001b[0m",
      "\u001b[0;31mModuleNotFoundError\u001b[0m: No module named 'sklearn'"
     ]
    }
   ],
   "source": [
    "from sklearn.preprocessing import scale"
   ]
  },
  {
   "cell_type": "markdown",
   "metadata": {},
   "source": [
    "### Accuracy of loaded weights"
   ]
  },
  {
   "cell_type": "code",
   "execution_count": null,
   "metadata": {},
   "outputs": [],
   "source": [
    "#Load some weights\n",
    "weights = loadData(\"ex3weights.mat\")\n",
    "classifier.loadWeight(weights)"
   ]
  },
  {
   "cell_type": "code",
   "execution_count": null,
   "metadata": {},
   "outputs": [],
   "source": [
    "print(\"Accuracy%: \", evaluate(classifier, data))"
   ]
  },
  {
   "cell_type": "markdown",
   "metadata": {},
   "source": []
  },
  {
   "cell_type": "code",
   "execution_count": null,
   "metadata": {},
   "outputs": [],
   "source": []
  },
  {
   "cell_type": "code",
   "execution_count": null,
   "metadata": {},
   "outputs": [],
   "source": []
  },
  {
   "cell_type": "code",
   "execution_count": null,
   "metadata": {},
   "outputs": [],
   "source": []
  },
  {
   "cell_type": "code",
   "execution_count": null,
   "metadata": {},
   "outputs": [],
   "source": []
  },
  {
   "cell_type": "code",
   "execution_count": null,
   "metadata": {},
   "outputs": [],
   "source": []
  }
 ],
 "metadata": {
  "kernelspec": {
   "display_name": "Python 3",
   "language": "python",
   "name": "python3"
  },
  "language_info": {
   "codemirror_mode": {
    "name": "ipython",
    "version": 3
   },
   "file_extension": ".py",
   "mimetype": "text/x-python",
   "name": "python",
   "nbconvert_exporter": "python",
   "pygments_lexer": "ipython3",
   "version": "3.6.8"
  }
 },
 "nbformat": 4,
 "nbformat_minor": 2
}
